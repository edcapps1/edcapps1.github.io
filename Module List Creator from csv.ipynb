{
 "cells": [
  {
   "cell_type": "code",
   "execution_count": 10,
   "metadata": {},
   "outputs": [],
   "source": [
    "import os\n",
    "import json\n",
    "import pandas as pd\n",
    "\n",
    "def csv_to_json(csv_path):\n",
    "    df = pd.read_csv(csv_path)\n",
    "    json_data = df.to_dict(orient='records')\n",
    "    return json_data\n",
    "\n",
    "csv_path = '/Users/edcapps/Desktop/lh_modules.csv'\n",
    "json_data = csv_to_json(csv_path)\n",
    "\n",
    "output_path = os.path.join('/Users/edcapps/Desktop', 'lh_modules.json')\n",
    "with open(output_path, 'w') as f:\n",
    "    json.dump(json_data, f)\n"
   ]
  }
 ],
 "metadata": {
  "kernelspec": {
   "display_name": "Python 3",
   "language": "python",
   "name": "python3"
  },
  "language_info": {
   "codemirror_mode": {
    "name": "ipython",
    "version": 3
   },
   "file_extension": ".py",
   "mimetype": "text/x-python",
   "name": "python",
   "nbconvert_exporter": "python",
   "pygments_lexer": "ipython3",
   "version": "3.9.13"
  },
  "orig_nbformat": 4
 },
 "nbformat": 4,
 "nbformat_minor": 2
}
